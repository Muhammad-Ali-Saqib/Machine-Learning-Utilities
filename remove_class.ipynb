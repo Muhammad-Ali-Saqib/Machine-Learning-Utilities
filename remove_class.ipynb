{
 "cells": [
  {
   "cell_type": "code",
   "execution_count": 1,
   "id": "f74efec1",
   "metadata": {},
   "outputs": [],
   "source": [
    "# importing libraries\n",
    "import glob"
   ]
  },
  {
   "cell_type": "code",
   "execution_count": 2,
   "id": "3cc2fac3",
   "metadata": {},
   "outputs": [],
   "source": [
    "# string replacement (copied)\n",
    "\n",
    "def replacer(s, newstring, index, nofail=False):\n",
    "    # raise an error if index is outside of the string\n",
    "    if not nofail and index not in range(len(s)):\n",
    "        raise ValueError(\"index outside given string\")\n",
    "\n",
    "    # if not erroring, but the index is still not in the correct range..\n",
    "    if index < 0:  # add it to the beginning\n",
    "        return newstring + s\n",
    "    if index > len(s):  # add it to the end\n",
    "        return s + newstring\n",
    "\n",
    "    # insert the new string between \"slices\" of the original\n",
    "    return s[:index] + newstring + s[index + 1:]"
   ]
  },
  {
   "cell_type": "code",
   "execution_count": 3,
   "id": "b9ff9573",
   "metadata": {},
   "outputs": [
    {
     "name": "stdout",
     "output_type": "stream",
     "text": [
      "[21, 38, 100, 3, 0]\n",
      "Done!!!\n"
     ]
    }
   ],
   "source": [
    "labelsperclass=[0,0,0,0,0]\n",
    "for file in glob.glob(\"class2\\\\*.txt\"):\n",
    "    file1 = open(file, 'r')\n",
    "    Lines = file1.readlines()\n",
    "    row=[\"\",\"\",\"\",\"\",\"\",\"\",\"\",\"\",\"\",\"\",\"\",\"\",\"\",\"\",\"\",\"\",\"\"]\n",
    "    i=0\n",
    "    for line in Lines:\n",
    "        if(line[0]=='0'):\n",
    "            labelsperclass[0]+=1\n",
    "            \n",
    "        elif(line[0]=='1'):\n",
    "            labelsperclass[1]+=1\n",
    "            \n",
    "        elif(line[0]=='2'):\n",
    "            row[i]=line\n",
    "            i+=1\n",
    "            labelsperclass[2] +=1\n",
    "            \n",
    "        elif(line[0]=='3'):\n",
    "#             row[i]=replacer(line,'2',0) # string, newString, index\n",
    "#             i+=1\n",
    "            labelsperclass[3] +=1\n",
    "            \n",
    "        elif(line[0]=='4'):\n",
    "#             row[i]=replacer(line,'3',0) # string, newString, index\n",
    "#             i+=1\n",
    "            labelsperclass[4] +=1\n",
    "            \n",
    "    file1.close()\n",
    "    file2 = open(file, 'w')\n",
    "    file2.writelines(row)\n",
    "    file2.close()\n",
    "#     print(row)\n",
    "#     break\n",
    "print(labelsperclass)\n",
    "print(\"Done!!!\")"
   ]
  }
 ],
 "metadata": {
  "kernelspec": {
   "display_name": "Python 3 (ipykernel)",
   "language": "python",
   "name": "python3"
  },
  "language_info": {
   "codemirror_mode": {
    "name": "ipython",
    "version": 3
   },
   "file_extension": ".py",
   "mimetype": "text/x-python",
   "name": "python",
   "nbconvert_exporter": "python",
   "pygments_lexer": "ipython3",
   "version": "3.8.10"
  }
 },
 "nbformat": 4,
 "nbformat_minor": 5
}
