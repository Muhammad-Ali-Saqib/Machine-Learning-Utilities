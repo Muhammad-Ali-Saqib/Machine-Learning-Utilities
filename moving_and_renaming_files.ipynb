{
 "cells": [
  {
   "cell_type": "markdown",
   "id": "c9517f8f",
   "metadata": {},
   "source": [
    "# Moving files to another folder and also renaming them with \"unique name\""
   ]
  },
  {
   "cell_type": "markdown",
   "id": "bb3eadbc",
   "metadata": {},
   "source": [
    "This script movies files from one folder to another folder and also renames the file.\n",
    "\n",
    "For my work i have to move both image and txt file to another folder. \n",
    "\n",
    "Where both files have same name \n",
    "\n",
    "##### This script works when images and txt files are in different directories"
   ]
  },
  {
   "cell_type": "markdown",
   "id": "bd2f9090",
   "metadata": {},
   "source": [
    "## 1. Importing Libraries"
   ]
  },
  {
   "cell_type": "code",
   "execution_count": null,
   "id": "e9b69851",
   "metadata": {},
   "outputs": [],
   "source": [
    "import os \n",
    "import shutil\n",
    "import uuid\n",
    "import glob"
   ]
  },
  {
   "cell_type": "markdown",
   "id": "5ffd5637",
   "metadata": {},
   "source": [
    "## 2. Set Paths"
   ]
  },
  {
   "cell_type": "code",
   "execution_count": null,
   "id": "6f3318f9",
   "metadata": {},
   "outputs": [],
   "source": [
    "source_folder = os.path.join(\"D:\\\\\",\"object detection\",\"main_folder\",\"augmented_class3\")\n",
    "destination_folder = os.path.join(\"D:\\\\\",\"object detection\",\"original_dataset\")"
   ]
  },
  {
   "cell_type": "markdown",
   "id": "56636438",
   "metadata": {},
   "source": [
    "## 3. Make destination Directory"
   ]
  },
  {
   "cell_type": "markdown",
   "id": "2701e04f",
   "metadata": {},
   "source": [
    "(optional) \n",
    "if you have folder already don't run this line"
   ]
  },
  {
   "cell_type": "code",
   "execution_count": null,
   "id": "afec2303",
   "metadata": {},
   "outputs": [],
   "source": [
    "os.mkdir(destination_folder)"
   ]
  },
  {
   "cell_type": "code",
   "execution_count": null,
   "id": "be8c5653",
   "metadata": {},
   "outputs": [],
   "source": [
    "# checking whether path is correct\n",
    "file = glob.glob(os.path.join(source_folder,\"images\",\"*.jpg\"))[0]\n",
    "\n",
    "# if txt files and image files in different folders do this in next cell where split is needed\n",
    "#file.split(\"\\\\\")[5].split(\".\")[0]\n"
   ]
  },
  {
   "cell_type": "markdown",
   "id": "d0822ea3",
   "metadata": {},
   "source": [
    "## 4. Moving Files"
   ]
  },
  {
   "cell_type": "code",
   "execution_count": null,
   "id": "98a4c593",
   "metadata": {},
   "outputs": [],
   "source": [
    "count = 0\n",
    "for file in glob.glob(os.path.join(source_folder,\"labels\",\"*.txt\")): # *.txt\")):\n",
    "    file_name = str(uuid.uuid4().hex)\n",
    "    \n",
    "    # moving txt file\n",
    "    original = os.path.join(source_folder, \"labels\", file) # , file) \n",
    "    destination = os.path.join(destination_folder, file_name + \".txt\")\n",
    "    shutil.move(original, destination)\n",
    "\n",
    "    # moving image file with same name \n",
    "    original = os.path.join(source_folder,\"images\", file.split(\"\\\\\")[5].split(\".\")[0] + \".jpg\") # file.split(\".\")[0] + \".jpg\")\n",
    "    destination = os.path.join(destination_folder, file_name + \".jpg\")\n",
    "    shutil.move(original, destination)\n",
    "\n",
    "    count +=2\n",
    "\n",
    "print(\"Moved files : \" + str(count))"
   ]
  }
 ],
 "metadata": {
  "kernelspec": {
   "display_name": "Python 3 (ipykernel)",
   "language": "python",
   "name": "python3"
  },
  "language_info": {
   "codemirror_mode": {
    "name": "ipython",
    "version": 3
   },
   "file_extension": ".py",
   "mimetype": "text/x-python",
   "name": "python",
   "nbconvert_exporter": "python",
   "pygments_lexer": "ipython3",
   "version": "3.8.10"
  }
 },
 "nbformat": 4,
 "nbformat_minor": 5
}
