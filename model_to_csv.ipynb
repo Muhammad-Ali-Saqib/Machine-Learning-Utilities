{
 "cells": [
  {
   "cell_type": "markdown",
   "id": "7a689d29",
   "metadata": {},
   "source": [
    "# Conversion of model's trained log file to csv"
   ]
  },
  {
   "cell_type": "code",
   "execution_count": null,
   "id": "f5343bb8",
   "metadata": {},
   "outputs": [],
   "source": [
    "import pandas as pd"
   ]
  },
  {
   "cell_type": "code",
   "execution_count": null,
   "id": "23248926",
   "metadata": {},
   "outputs": [],
   "source": [
    "file = open(\"DenseNet121 Validation Results.txt\",\"r\")\n",
    "\n",
    "#write_file = open(\"output_model.txt\", \"w\")"
   ]
  },
  {
   "cell_type": "code",
   "execution_count": null,
   "id": "261fbf82",
   "metadata": {},
   "outputs": [],
   "source": [
    "df =pd.DataFrame([])\n",
    "\n",
    "#traversing through file \n",
    "for line in file:\n",
    "    # reading file line by line \n",
    "    if \"loss\" in line:\n",
    "        data = pd.DataFrame(line.split()) # tokenize line by \" \" space\n",
    "        data = data.transpose()           # column output into row\n",
    "        #renaming columns\n",
    "        data.rename(\n",
    "            columns={7: \"Loss\",\n",
    "                     10: \"Accuracy\",\n",
    "                     13: \"Val_Loss\",\n",
    "                     16: \"Val_Acc\"\n",
    "                    },\n",
    "            inplace=True)\n",
    "        #removing extra columns\n",
    "        data = data.drop([0,1,2,3,4,5,6,8,9,11,12,14,15], axis=1)\n",
    "        df =df.append(data)\n",
    "        \n",
    "#export data frome to csv\n",
    "df.to_csv(\"DenseNet121 Validation Results.csv\")\n",
    "        "
   ]
  }
 ],
 "metadata": {
  "kernelspec": {
   "display_name": "Python 3 (ipykernel)",
   "language": "python",
   "name": "python3"
  },
  "language_info": {
   "codemirror_mode": {
    "name": "ipython",
    "version": 3
   },
   "file_extension": ".py",
   "mimetype": "text/x-python",
   "name": "python",
   "nbconvert_exporter": "python",
   "pygments_lexer": "ipython3",
   "version": "3.8.10"
  }
 },
 "nbformat": 4,
 "nbformat_minor": 5
}
