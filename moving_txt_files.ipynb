{
 "cells": [
  {
   "cell_type": "markdown",
   "id": "c9517f8f",
   "metadata": {},
   "source": [
    "# Moving files to another folder according to the images name "
   ]
  },
  {
   "cell_type": "markdown",
   "id": "bb3eadbc",
   "metadata": {},
   "source": [
    "This script movies files from one folder to another folder according to the images that are present in another location\n",
    "\n",
    "It just moves text files in trian test and val folders \n",
    "\n",
    "text files with same name as image files in train test and val folders \n",
    "\n",
    "\n",
    "##### This script works when images and txt files are in different directories"
   ]
  },
  {
   "cell_type": "markdown",
   "id": "bd2f9090",
   "metadata": {},
   "source": [
    "## 1. Importing Libraries"
   ]
  },
  {
   "cell_type": "code",
   "execution_count": 1,
   "id": "e9b69851",
   "metadata": {},
   "outputs": [],
   "source": [
    "import os \n",
    "import shutil\n",
    "import uuid\n",
    "import glob"
   ]
  },
  {
   "cell_type": "markdown",
   "id": "5ffd5637",
   "metadata": {},
   "source": [
    "## 2. Set Paths"
   ]
  },
  {
   "cell_type": "code",
   "execution_count": 28,
   "id": "6f3318f9",
   "metadata": {},
   "outputs": [],
   "source": [
    "images_folder = os.path.join(\"D:\\\\\",\"object detection\",\"original_dataset\",\"tf_split\",\"val\")\n",
    "txt_files_directory = os.path.join(\"D:\\\\\",\"object detection\",\"original_dataset\",\"txt\")\n",
    "destination_directory = os.path.join(\"D:\\\\\",\"object detection\",\"original_dataset\",\"txt\", \"val\")"
   ]
  },
  {
   "cell_type": "markdown",
   "id": "56636438",
   "metadata": {},
   "source": [
    "## 3. Make destination Directory"
   ]
  },
  {
   "cell_type": "markdown",
   "id": "2701e04f",
   "metadata": {},
   "source": [
    "(optional) \n",
    "if you have folder already don't run this line"
   ]
  },
  {
   "cell_type": "code",
   "execution_count": null,
   "id": "afec2303",
   "metadata": {},
   "outputs": [],
   "source": [
    "os.mkdir(destination_folder)"
   ]
  },
  {
   "cell_type": "code",
   "execution_count": 14,
   "id": "be8c5653",
   "metadata": {},
   "outputs": [
    {
     "name": "stdout",
     "output_type": "stream",
     "text": [
      "D:\\object detection\\original_dataset\\tf_split\\train\\0119f289c0584def846573bc9f5489ee.jpg\n",
      "D:\\object detection\\original_dataset\\txt\\00093c4e573d482fa5f287054e0c4dc5.txt\n"
     ]
    }
   ],
   "source": [
    "# checking whether path is correct\n",
    "print(glob.glob(os.path.join(images_folder,\"*.jpg\"))[0])\n",
    "print(glob.glob(os.path.join(txt_files_directory,\"*.txt\"))[0])\n",
    "\n",
    "# if txt files and image files in different folders do this in next cell where split is needed\n",
    "#file.split(\"\\\\\")[5].split(\".\")[0]\n"
   ]
  },
  {
   "cell_type": "markdown",
   "id": "d0822ea3",
   "metadata": {},
   "source": [
    "## 4. Moving Files"
   ]
  },
  {
   "cell_type": "code",
   "execution_count": 29,
   "id": "98a4c593",
   "metadata": {},
   "outputs": [
    {
     "name": "stdout",
     "output_type": "stream",
     "text": [
      "Moved files : 256\n"
     ]
    }
   ],
   "source": [
    "count = 0\n",
    "for file in glob.glob(os.path.join(images_folder,\"*.jpg\")): # *.txt\")):\n",
    "\n",
    "    # moving txt file\n",
    "    original = os.path.join(txt_files_directory, file.split(\"\\\\\")[len(file.split(\"\\\\\"))-1].split(\".\")[0]+\".txt\") # , file) \n",
    "    destination = os.path.join(destination_directory, file.split(\"\\\\\")[len(file.split(\"\\\\\"))-1].split(\".\")[0] + \".txt\")\n",
    "    shutil.move(original, destination)\n",
    "#     print(original + \"\\n\"+ destination)\n",
    "#     break\n",
    "\n",
    "    count +=1\n",
    "\n",
    "print(\"Moved files : \" + str(count))"
   ]
  }
 ],
 "metadata": {
  "kernelspec": {
   "display_name": "Python 3 (ipykernel)",
   "language": "python",
   "name": "python3"
  },
  "language_info": {
   "codemirror_mode": {
    "name": "ipython",
    "version": 3
   },
   "file_extension": ".py",
   "mimetype": "text/x-python",
   "name": "python",
   "nbconvert_exporter": "python",
   "pygments_lexer": "ipython3",
   "version": "3.8.10"
  }
 },
 "nbformat": 4,
 "nbformat_minor": 5
}
