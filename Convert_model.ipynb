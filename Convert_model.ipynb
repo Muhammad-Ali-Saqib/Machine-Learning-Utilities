{
 "cells": [
  {
   "cell_type": "code",
   "execution_count": 89,
   "id": "f5343bb8",
   "metadata": {},
   "outputs": [],
   "source": [
    "import pandas as pd"
   ]
  },
  {
   "cell_type": "code",
   "execution_count": 90,
   "id": "23248926",
   "metadata": {},
   "outputs": [],
   "source": [
    "file = open(\"DenseNet121 Validation Results.txt\",\"r\")\n",
    "\n",
    "#write_file = open(\"output_model.txt\", \"w\")"
   ]
  },
  {
   "cell_type": "code",
   "execution_count": 91,
   "id": "261fbf82",
   "metadata": {},
   "outputs": [
    {
     "name": "stderr",
     "output_type": "stream",
     "text": [
      "C:\\Users\\Saqib\\AppData\\Local\\Temp/ipykernel_2216/3537287999.py:15: FutureWarning: The frame.append method is deprecated and will be removed from pandas in a future version. Use pandas.concat instead.\n",
      "  df =df.append(data)\n",
      "C:\\Users\\Saqib\\AppData\\Local\\Temp/ipykernel_2216/3537287999.py:15: FutureWarning: The frame.append method is deprecated and will be removed from pandas in a future version. Use pandas.concat instead.\n",
      "  df =df.append(data)\n",
      "C:\\Users\\Saqib\\AppData\\Local\\Temp/ipykernel_2216/3537287999.py:15: FutureWarning: The frame.append method is deprecated and will be removed from pandas in a future version. Use pandas.concat instead.\n",
      "  df =df.append(data)\n",
      "C:\\Users\\Saqib\\AppData\\Local\\Temp/ipykernel_2216/3537287999.py:15: FutureWarning: The frame.append method is deprecated and will be removed from pandas in a future version. Use pandas.concat instead.\n",
      "  df =df.append(data)\n",
      "C:\\Users\\Saqib\\AppData\\Local\\Temp/ipykernel_2216/3537287999.py:15: FutureWarning: The frame.append method is deprecated and will be removed from pandas in a future version. Use pandas.concat instead.\n",
      "  df =df.append(data)\n",
      "C:\\Users\\Saqib\\AppData\\Local\\Temp/ipykernel_2216/3537287999.py:15: FutureWarning: The frame.append method is deprecated and will be removed from pandas in a future version. Use pandas.concat instead.\n",
      "  df =df.append(data)\n",
      "C:\\Users\\Saqib\\AppData\\Local\\Temp/ipykernel_2216/3537287999.py:15: FutureWarning: The frame.append method is deprecated and will be removed from pandas in a future version. Use pandas.concat instead.\n",
      "  df =df.append(data)\n",
      "C:\\Users\\Saqib\\AppData\\Local\\Temp/ipykernel_2216/3537287999.py:15: FutureWarning: The frame.append method is deprecated and will be removed from pandas in a future version. Use pandas.concat instead.\n",
      "  df =df.append(data)\n",
      "C:\\Users\\Saqib\\AppData\\Local\\Temp/ipykernel_2216/3537287999.py:15: FutureWarning: The frame.append method is deprecated and will be removed from pandas in a future version. Use pandas.concat instead.\n",
      "  df =df.append(data)\n",
      "C:\\Users\\Saqib\\AppData\\Local\\Temp/ipykernel_2216/3537287999.py:15: FutureWarning: The frame.append method is deprecated and will be removed from pandas in a future version. Use pandas.concat instead.\n",
      "  df =df.append(data)\n",
      "C:\\Users\\Saqib\\AppData\\Local\\Temp/ipykernel_2216/3537287999.py:15: FutureWarning: The frame.append method is deprecated and will be removed from pandas in a future version. Use pandas.concat instead.\n",
      "  df =df.append(data)\n",
      "C:\\Users\\Saqib\\AppData\\Local\\Temp/ipykernel_2216/3537287999.py:15: FutureWarning: The frame.append method is deprecated and will be removed from pandas in a future version. Use pandas.concat instead.\n",
      "  df =df.append(data)\n",
      "C:\\Users\\Saqib\\AppData\\Local\\Temp/ipykernel_2216/3537287999.py:15: FutureWarning: The frame.append method is deprecated and will be removed from pandas in a future version. Use pandas.concat instead.\n",
      "  df =df.append(data)\n",
      "C:\\Users\\Saqib\\AppData\\Local\\Temp/ipykernel_2216/3537287999.py:15: FutureWarning: The frame.append method is deprecated and will be removed from pandas in a future version. Use pandas.concat instead.\n",
      "  df =df.append(data)\n",
      "C:\\Users\\Saqib\\AppData\\Local\\Temp/ipykernel_2216/3537287999.py:15: FutureWarning: The frame.append method is deprecated and will be removed from pandas in a future version. Use pandas.concat instead.\n",
      "  df =df.append(data)\n",
      "C:\\Users\\Saqib\\AppData\\Local\\Temp/ipykernel_2216/3537287999.py:15: FutureWarning: The frame.append method is deprecated and will be removed from pandas in a future version. Use pandas.concat instead.\n",
      "  df =df.append(data)\n",
      "C:\\Users\\Saqib\\AppData\\Local\\Temp/ipykernel_2216/3537287999.py:15: FutureWarning: The frame.append method is deprecated and will be removed from pandas in a future version. Use pandas.concat instead.\n",
      "  df =df.append(data)\n",
      "C:\\Users\\Saqib\\AppData\\Local\\Temp/ipykernel_2216/3537287999.py:15: FutureWarning: The frame.append method is deprecated and will be removed from pandas in a future version. Use pandas.concat instead.\n",
      "  df =df.append(data)\n",
      "C:\\Users\\Saqib\\AppData\\Local\\Temp/ipykernel_2216/3537287999.py:15: FutureWarning: The frame.append method is deprecated and will be removed from pandas in a future version. Use pandas.concat instead.\n",
      "  df =df.append(data)\n",
      "C:\\Users\\Saqib\\AppData\\Local\\Temp/ipykernel_2216/3537287999.py:15: FutureWarning: The frame.append method is deprecated and will be removed from pandas in a future version. Use pandas.concat instead.\n",
      "  df =df.append(data)\n",
      "C:\\Users\\Saqib\\AppData\\Local\\Temp/ipykernel_2216/3537287999.py:15: FutureWarning: The frame.append method is deprecated and will be removed from pandas in a future version. Use pandas.concat instead.\n",
      "  df =df.append(data)\n",
      "C:\\Users\\Saqib\\AppData\\Local\\Temp/ipykernel_2216/3537287999.py:15: FutureWarning: The frame.append method is deprecated and will be removed from pandas in a future version. Use pandas.concat instead.\n",
      "  df =df.append(data)\n",
      "C:\\Users\\Saqib\\AppData\\Local\\Temp/ipykernel_2216/3537287999.py:15: FutureWarning: The frame.append method is deprecated and will be removed from pandas in a future version. Use pandas.concat instead.\n",
      "  df =df.append(data)\n",
      "C:\\Users\\Saqib\\AppData\\Local\\Temp/ipykernel_2216/3537287999.py:15: FutureWarning: The frame.append method is deprecated and will be removed from pandas in a future version. Use pandas.concat instead.\n",
      "  df =df.append(data)\n",
      "C:\\Users\\Saqib\\AppData\\Local\\Temp/ipykernel_2216/3537287999.py:15: FutureWarning: The frame.append method is deprecated and will be removed from pandas in a future version. Use pandas.concat instead.\n",
      "  df =df.append(data)\n",
      "C:\\Users\\Saqib\\AppData\\Local\\Temp/ipykernel_2216/3537287999.py:15: FutureWarning: The frame.append method is deprecated and will be removed from pandas in a future version. Use pandas.concat instead.\n",
      "  df =df.append(data)\n",
      "C:\\Users\\Saqib\\AppData\\Local\\Temp/ipykernel_2216/3537287999.py:15: FutureWarning: The frame.append method is deprecated and will be removed from pandas in a future version. Use pandas.concat instead.\n",
      "  df =df.append(data)\n",
      "C:\\Users\\Saqib\\AppData\\Local\\Temp/ipykernel_2216/3537287999.py:15: FutureWarning: The frame.append method is deprecated and will be removed from pandas in a future version. Use pandas.concat instead.\n",
      "  df =df.append(data)\n",
      "C:\\Users\\Saqib\\AppData\\Local\\Temp/ipykernel_2216/3537287999.py:15: FutureWarning: The frame.append method is deprecated and will be removed from pandas in a future version. Use pandas.concat instead.\n",
      "  df =df.append(data)\n",
      "C:\\Users\\Saqib\\AppData\\Local\\Temp/ipykernel_2216/3537287999.py:15: FutureWarning: The frame.append method is deprecated and will be removed from pandas in a future version. Use pandas.concat instead.\n",
      "  df =df.append(data)\n",
      "C:\\Users\\Saqib\\AppData\\Local\\Temp/ipykernel_2216/3537287999.py:15: FutureWarning: The frame.append method is deprecated and will be removed from pandas in a future version. Use pandas.concat instead.\n",
      "  df =df.append(data)\n",
      "C:\\Users\\Saqib\\AppData\\Local\\Temp/ipykernel_2216/3537287999.py:15: FutureWarning: The frame.append method is deprecated and will be removed from pandas in a future version. Use pandas.concat instead.\n",
      "  df =df.append(data)\n",
      "C:\\Users\\Saqib\\AppData\\Local\\Temp/ipykernel_2216/3537287999.py:15: FutureWarning: The frame.append method is deprecated and will be removed from pandas in a future version. Use pandas.concat instead.\n",
      "  df =df.append(data)\n",
      "C:\\Users\\Saqib\\AppData\\Local\\Temp/ipykernel_2216/3537287999.py:15: FutureWarning: The frame.append method is deprecated and will be removed from pandas in a future version. Use pandas.concat instead.\n",
      "  df =df.append(data)\n",
      "C:\\Users\\Saqib\\AppData\\Local\\Temp/ipykernel_2216/3537287999.py:15: FutureWarning: The frame.append method is deprecated and will be removed from pandas in a future version. Use pandas.concat instead.\n",
      "  df =df.append(data)\n"
     ]
    }
   ],
   "source": [
    "df =pd.DataFrame([])\n",
    "for line in file:\n",
    "    if \"loss\" in line:\n",
    "        data = pd.DataFrame(line.split())\n",
    "        data = data.transpose()\n",
    "        data.rename(\n",
    "            columns={7: \"Loss\",\n",
    "                     10: \"Accuracy\",\n",
    "                     13: \"Val_Loss\",\n",
    "                     16: \"Val_Acc\"\n",
    "                    },\n",
    "            inplace=True)\n",
    "        \n",
    "        data = data.drop([0,1,2,3,4,5,6,8,9,11,12,14,15], axis=1)\n",
    "        df =df.append(data)\n",
    "df.to_csv(\"DenseNet121 Validation Results.csv\")\n",
    "        "
   ]
  },
  {
   "cell_type": "code",
   "execution_count": null,
   "id": "e5a655df",
   "metadata": {},
   "outputs": [],
   "source": []
  }
 ],
 "metadata": {
  "kernelspec": {
   "display_name": "Python 3 (ipykernel)",
   "language": "python",
   "name": "python3"
  },
  "language_info": {
   "codemirror_mode": {
    "name": "ipython",
    "version": 3
   },
   "file_extension": ".py",
   "mimetype": "text/x-python",
   "name": "python",
   "nbconvert_exporter": "python",
   "pygments_lexer": "ipython3",
   "version": "3.8.10"
  }
 },
 "nbformat": 4,
 "nbformat_minor": 5
}
