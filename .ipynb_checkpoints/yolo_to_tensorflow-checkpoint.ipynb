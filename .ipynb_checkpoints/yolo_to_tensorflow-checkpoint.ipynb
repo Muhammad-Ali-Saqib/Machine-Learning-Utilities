{
 "cells": [
  {
   "cell_type": "markdown",
   "metadata": {
    "id": "hCSXESfYH3Kr"
   },
   "source": [
    "# Converting YOLO.weights to tensorflow model .pb .tflite \n",
    "For google colab use."
   ]
  },
  {
   "cell_type": "code",
   "execution_count": null,
   "metadata": {
    "colab": {
     "base_uri": "https://localhost:8080/"
    },
    "id": "ueSM9PA9IDv3",
    "outputId": "efff8f9a-5aa3-473c-80c9-0fec9dd644fe"
   },
   "outputs": [],
   "source": [
    "#connecting google drive where you have stored weights\n",
    "from google.colab import drive\n",
    "drive.mount('/content/drive')"
   ]
  },
  {
   "cell_type": "code",
   "execution_count": null,
   "metadata": {
    "colab": {
     "base_uri": "https://localhost:8080/"
    },
    "id": "5DgEZlW8IOWD",
    "outputId": "f0dad60a-29ef-4a8d-a8ca-bc5a194af7d4"
   },
   "outputs": [],
   "source": [
    "# git repository to convert weights\n",
    "!git clone https://github.com/pranjalAI/tensorflow-yolov4-tflite.git"
   ]
  },
  {
   "cell_type": "code",
   "execution_count": null,
   "metadata": {
    "id": "7kugbp3EIfR8"
   },
   "outputs": [],
   "source": [
    "# copying weights to tensorflow-yolov4-tflite/data/yolo.weights\n",
    "!cp /content/drive/MyDrive/your_weights/yolov3_best.weights /content/tensorflow-yolov4-tflite/data"
   ]
  },
  {
   "cell_type": "code",
   "execution_count": null,
   "metadata": {
    "id": "XrKMTmiRIwaA"
   },
   "outputs": [],
   "source": [
    "# copying obj.names to tensorflow-yolov4-tflite/data/classes\n",
    "!cp /content/drive/MyDrive/your_weights/obj.names /content/tensorflow-yolov4-tflite/data/classes"
   ]
  },
  {
   "cell_type": "code",
   "execution_count": null,
   "metadata": {
    "colab": {
     "base_uri": "https://localhost:8080/"
    },
    "id": "s89bTxiRL18B",
    "outputId": "c90aaaac-2e1f-4191-9088-e7ad053a11a6"
   },
   "outputs": [],
   "source": [
    "# converting yolo.weights to tensorflow .pb but it will generate error in utils.py, so edit utils.py and change path of .names file \n",
    "# if you do it on your local system there will be no errors of path \n",
    "!python /content/tensorflow-yolov4-tflite/save_model.py --weights /content/tensorflow-yolov4-tflite/data/yolov3_best.weights --output ./tensorflow-yolov4-tflite/checkpoints/custom-416 --input_size 416 --model yolov3 "
   ]
  },
  {
   "cell_type": "code",
   "execution_count": null,
   "metadata": {
    "id": "HqS5-2adNU61"
   },
   "outputs": [],
   "source": [
    "!cp /content/tensorflow-yolov4-tflite /content/drive/MyDrive -r"
   ]
  },
  {
   "cell_type": "code",
   "execution_count": null,
   "metadata": {},
   "outputs": [],
   "source": [
    "# generating .pb for tflite conversion\n",
    "!python /content/tensorflow-yolov4-tflite/save_model.py --weights /content/tensorflow-yolov4-tflite/data/yolov3_best.weights --output /content/drive/MyDrive/your_weights/tflite_yolov3-416 --input_size 416 --model yolov3 --framework tflite"
   ]
  },
  {
   "cell_type": "code",
   "execution_count": null,
   "metadata": {},
   "outputs": [],
   "source": [
    "#converting to tflite \n",
    "!python /content/tensorflow-yolov4-tflite/convert_tflite.py --weights /content/drive/MyDrive/your_weights/tflite_yolov3-416 --output /content/drive/MyDrive/your_weights/yolov3.tflite"
   ]
  },
  {
   "cell_type": "code",
   "execution_count": null,
   "metadata": {},
   "outputs": [],
   "source": [
    "# converting to float 16 (idk what the heck is it)\n",
    "!python /content/tensorflow-yolov4-tflite/convert_tflite.py --weights /content/drive/MyDrive/weeds_weights/tflite_yolov3-416 --output /content/drive/MyDrive/your_weights/yolov3_fp16.tflite --quantize_mode float16"
   ]
  },
  {
   "cell_type": "code",
   "execution_count": null,
   "metadata": {},
   "outputs": [],
   "source": [
    "# checking your model (didn't gave me results)\n",
    "!python /content/tensorflow-yolov4-tflite/detect.py --weights /content/drive/MyDrive/your_weights/yolov3.tflite --size 416 --model yolov3 --images /content/drive/MyDrive/your_weights/0.jpg --framework tflite"
   ]
  },
  {
   "cell_type": "code",
   "execution_count": null,
   "metadata": {},
   "outputs": [],
   "source": [
    "# copying detection results (false results lol)\n",
    "!cp /content/tensorflow-yolov4-tflite/detections/detection1.png /content/drive/MyDrive/your_weights"
   ]
  },
  {
   "cell_type": "code",
   "execution_count": null,
   "metadata": {},
   "outputs": [],
   "source": [
    "# converting to tflite 16 (didn't worked for me)\n",
    "!python /content/tensorflow-yolov4-tflite/convert_tflite.py --weights /content/drive/MyDrive/your_weights/tflite_yolov3-416 --output /content/drive/MyDrive/weeds_weights/yolov3_int8.tflite --quantize_mode int8 --dataset /content/tensorflow-yolov4-tflite/data/dataset/val2017.txt"
   ]
  }
 ],
 "metadata": {
  "accelerator": "GPU",
  "colab": {
   "name": "model conversion.ipynb",
   "provenance": []
  },
  "kernelspec": {
   "display_name": "Python 3 (ipykernel)",
   "language": "python",
   "name": "python3"
  },
  "language_info": {
   "codemirror_mode": {
    "name": "ipython",
    "version": 3
   },
   "file_extension": ".py",
   "mimetype": "text/x-python",
   "name": "python",
   "nbconvert_exporter": "python",
   "pygments_lexer": "ipython3",
   "version": "3.8.10"
  }
 },
 "nbformat": 4,
 "nbformat_minor": 1
}
