{
 "cells": [
  {
   "cell_type": "markdown",
   "id": "adc91435",
   "metadata": {},
   "source": [
    "# Conversion of yolo log file to csv\n",
    "This script extracts data from output of trained model output file.log "
   ]
  },
  {
   "cell_type": "code",
   "execution_count": 9,
   "id": "f5343bb8",
   "metadata": {},
   "outputs": [],
   "source": [
    "import pandas as pd"
   ]
  },
  {
   "cell_type": "code",
   "execution_count": 7,
   "id": "23248926",
   "metadata": {},
   "outputs": [],
   "source": [
    "path =\"D:/DIGREES/MSCS/Research/My First Paper/comparison article/implementation/20220301_FourWeedsInWheat_2\"\n",
    "file_name = \"20220301_yolov4_1_FourWeedsInWheatresults.log\"\n",
    "file = open(path+\"/\"+file_name,\"r\")"
   ]
  },
  {
   "cell_type": "code",
   "execution_count": 10,
   "id": "261fbf82",
   "metadata": {},
   "outputs": [
    {
     "ename": "ValueError",
     "evalue": "I/O operation on closed file.",
     "output_type": "error",
     "traceback": [
      "\u001b[1;31m---------------------------------------------------------------------------\u001b[0m",
      "\u001b[1;31mValueError\u001b[0m                                Traceback (most recent call last)",
      "\u001b[1;32m~\\AppData\\Local\\Temp/ipykernel_4468/1990431394.py\u001b[0m in \u001b[0;36m<module>\u001b[1;34m\u001b[0m\n\u001b[0;32m      4\u001b[0m \u001b[1;33m\u001b[0m\u001b[0m\n\u001b[0;32m      5\u001b[0m \u001b[1;31m#traversing through file\u001b[0m\u001b[1;33m\u001b[0m\u001b[1;33m\u001b[0m\u001b[1;33m\u001b[0m\u001b[0m\n\u001b[1;32m----> 6\u001b[1;33m \u001b[1;32mfor\u001b[0m \u001b[0mline\u001b[0m \u001b[1;32min\u001b[0m \u001b[0mfile\u001b[0m\u001b[1;33m:\u001b[0m\u001b[1;33m\u001b[0m\u001b[1;33m\u001b[0m\u001b[0m\n\u001b[0m\u001b[0;32m      7\u001b[0m \u001b[1;33m\u001b[0m\u001b[0m\n\u001b[0;32m      8\u001b[0m     \u001b[1;31m#finding avg loss in each line\u001b[0m\u001b[1;33m\u001b[0m\u001b[1;33m\u001b[0m\u001b[1;33m\u001b[0m\u001b[0m\n",
      "\u001b[1;31mValueError\u001b[0m: I/O operation on closed file."
     ]
    }
   ],
   "source": [
    "df ={\"avg loss\": [],\n",
    "    \"mean_average_precision\": []}\n",
    "df =pd.DataFrame(df)\n",
    "\n",
    "#traversing through file \n",
    "for line in file:\n",
    "    \n",
    "    #finding avg loss in each line\n",
    "    if \"avg loss\" in line:\n",
    "        data_avg_loss = pd.DataFrame(line.split())  #tokenize line by \" \" space\n",
    "        data_avg_loss = data_avg_loss.transpose()   #convert data from column to row\n",
    "        data_avg_loss.rename(\n",
    "            columns={2: \"avg loss\",\n",
    "                    },\n",
    "            inplace=True)\n",
    "        #removing extra coulmns\n",
    "        data_avg_loss = data_avg_loss.drop([0,1,3,4,5,6,7,8,9,10,11,12,13], axis=1)\n",
    "        data_avg_loss.insert(1,'mean_average_precision',[\"\"],True)#inserting into the coulmn with no value\n",
    "        df = df.append(data_avg_loss)\n",
    "    if \"mean_average_precision\" in line:\n",
    "        data_map = pd.DataFrame(line.split())\n",
    "        data_map = data_map.transpose()\n",
    "        data_map.rename(\n",
    "            columns={3: \"mean_average_precision\",\n",
    "                    },\n",
    "            inplace=True)\n",
    "        \n",
    "        data_map = data_map.drop([0,1,2], axis=1)\n",
    "        data_map.insert(0, \"avg loss\", [\"\"], True)\n",
    "        df =df.append(data_map)\n",
    "df.to_csv(path+\"/\"+file_name.split(\".\")[0]+\".csv\")     #saving dataframe into file.csv  \n",
    "file.close()"
   ]
  },
  {
   "cell_type": "code",
   "execution_count": null,
   "id": "9e240487",
   "metadata": {},
   "outputs": [],
   "source": []
  }
 ],
 "metadata": {
  "kernelspec": {
   "display_name": "Python 3 (ipykernel)",
   "language": "python",
   "name": "python3"
  },
  "language_info": {
   "codemirror_mode": {
    "name": "ipython",
    "version": 3
   },
   "file_extension": ".py",
   "mimetype": "text/x-python",
   "name": "python",
   "nbconvert_exporter": "python",
   "pygments_lexer": "ipython3",
   "version": "3.8.10"
  }
 },
 "nbformat": 4,
 "nbformat_minor": 5
}
