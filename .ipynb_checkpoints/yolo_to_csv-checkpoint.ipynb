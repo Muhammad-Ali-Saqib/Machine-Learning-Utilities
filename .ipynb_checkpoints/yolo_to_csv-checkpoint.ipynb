{
 "cells": [
  {
   "cell_type": "markdown",
   "id": "adc91435",
   "metadata": {},
   "source": [
    "# Conversion of yolo log file to csv\n",
    "This script extracts data from output of trained model output file.log "
   ]
  },
  {
   "cell_type": "code",
   "execution_count": null,
   "id": "f5343bb8",
   "metadata": {},
   "outputs": [],
   "source": [
    "import pandas as pd"
   ]
  },
  {
   "cell_type": "code",
   "execution_count": null,
   "id": "23248926",
   "metadata": {},
   "outputs": [],
   "source": [
    "path =\"D:/backup\"\n",
    "file_name = \"output.log\"\n",
    "file = open(path+\"/\"+file_name,\"r\")"
   ]
  },
  {
   "cell_type": "code",
   "execution_count": null,
   "id": "261fbf82",
   "metadata": {},
   "outputs": [],
   "source": [
    "df ={\"avg loss\": [],\n",
    "    \"mean_average_precision\": []}\n",
    "df =pd.DataFrame(df)\n",
    "\n",
    "#traversing through file \n",
    "for line in file:\n",
    "    \n",
    "    #finding avg loss in each line\n",
    "    if \"avg loss\" in line:\n",
    "        data_avg_loss = pd.DataFrame(line.split())  #tokenize line by \" \" space\n",
    "        data_avg_loss = data_avg_loss.transpose()   #convert data from column to row\n",
    "        data_avg_loss.rename(\n",
    "            columns={2: \"avg loss\",\n",
    "                    },\n",
    "            inplace=True)\n",
    "        #removing extra coulmns\n",
    "        data_avg_loss = data_avg_loss.drop([0,1,3,4,5,6,7,8,9,10,11,12,13], axis=1)\n",
    "        data_avg_loss.insert(1,'mean_average_precision',[\"\"],True)#inserting into the coulmn with no value\n",
    "        df = df.append(data_avg_loss)\n",
    "    if \"mean_average_precision\" in line:\n",
    "        data_map = pd.DataFrame(line.split())\n",
    "        data_map = data_map.transpose()\n",
    "        data_map.rename(\n",
    "            columns={3: \"mean_average_precision\",\n",
    "                    },\n",
    "            inplace=True)\n",
    "        \n",
    "        data_map = data_map.drop([0,1,2], axis=1)\n",
    "        data_map.insert(0, \"avg loss\", [\"\"], True)\n",
    "        df =df.append(data_map)\n",
    "df.to_csv(path+\"/\"+file_name.split(\".\")[0]+\".csv\")     #saving dataframe into file.csv  \n",
    "file.close()"
   ]
  }
 ],
 "metadata": {
  "kernelspec": {
   "display_name": "Python 3 (ipykernel)",
   "language": "python",
   "name": "python3"
  },
  "language_info": {
   "codemirror_mode": {
    "name": "ipython",
    "version": 3
   },
   "file_extension": ".py",
   "mimetype": "text/x-python",
   "name": "python",
   "nbconvert_exporter": "python",
   "pygments_lexer": "ipython3",
   "version": "3.8.10"
  }
 },
 "nbformat": 4,
 "nbformat_minor": 5
}
