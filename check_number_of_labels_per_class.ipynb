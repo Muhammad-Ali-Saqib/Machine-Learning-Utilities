{
 "cells": [
  {
   "cell_type": "code",
   "execution_count": 24,
   "id": "da6f4a87",
   "metadata": {},
   "outputs": [],
   "source": [
    "# importing libraries\n",
    "import glob\n",
    "import os\n",
    "import shutil"
   ]
  },
  {
   "cell_type": "code",
   "execution_count": 29,
   "id": "a3f89312",
   "metadata": {},
   "outputs": [
    {
     "name": "stdout",
     "output_type": "stream",
     "text": [
      "1166\n",
      "1610\n",
      "1279\n",
      "1542\n",
      "0\n"
     ]
    }
   ],
   "source": [
    "# counter is according to the number of classes\n",
    "counter0, counter1, counter2, counter3, counter4 = 0, 0, 0, 0, 0 \n",
    "\n",
    "for file in glob.glob(\"D:\\\\object detection\\\\original_dataset\\\\*.txt\"): # source folder\n",
    "    file1 = open(file, 'r')\n",
    "    Lines = file1.readlines()\n",
    "    \n",
    "    # going  through each line of bbox file\n",
    "    for line in Lines:\n",
    "        if(line[0]=='0'):\n",
    "            counter0 += 1 \n",
    "            \n",
    "        elif(line[0]=='1'):\n",
    "            counter1 += 1\n",
    "            \n",
    "        elif(line[0]=='2'):\n",
    "            counter2 += 1\n",
    "            \n",
    "        elif(line[0]=='3'):\n",
    "            counter3 += 1\n",
    "            \n",
    "        elif(line[0]=='4'):\n",
    "            counter4 += 1\n",
    "    \n",
    "    # closing that file\n",
    "    file1.close()\n",
    "    \n",
    "    \n",
    "print(counter0)\n",
    "print(counter1)\n",
    "print(counter2)\n",
    "print(counter3)\n",
    "print(counter4)"
   ]
  }
 ],
 "metadata": {
  "kernelspec": {
   "display_name": "Python 3 (ipykernel)",
   "language": "python",
   "name": "python3"
  },
  "language_info": {
   "codemirror_mode": {
    "name": "ipython",
    "version": 3
   },
   "file_extension": ".py",
   "mimetype": "text/x-python",
   "name": "python",
   "nbconvert_exporter": "python",
   "pygments_lexer": "ipython3",
   "version": "3.8.10"
  }
 },
 "nbformat": 4,
 "nbformat_minor": 5
}
