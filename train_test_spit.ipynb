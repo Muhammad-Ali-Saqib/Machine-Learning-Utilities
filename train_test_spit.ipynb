{
 "cells": [
  {
   "cell_type": "code",
   "execution_count": 1,
   "id": "e9b69851",
   "metadata": {},
   "outputs": [],
   "source": [
    "import os \n",
    "import shutil\n",
    "import uuid\n",
    "import glob"
   ]
  },
  {
   "cell_type": "code",
   "execution_count": 2,
   "id": "d1ae8f52",
   "metadata": {},
   "outputs": [
    {
     "data": {
      "text/plain": [
       "509"
      ]
     },
     "execution_count": 2,
     "metadata": {},
     "output_type": "execute_result"
    }
   ],
   "source": [
    "int(509.8)"
   ]
  },
  {
   "cell_type": "code",
   "execution_count": 8,
   "id": "98a4c593",
   "metadata": {},
   "outputs": [
    {
     "name": "stdout",
     "output_type": "stream",
     "text": [
      "Moved files : 4\n"
     ]
    }
   ],
   "source": [
    "counter = 0\n",
    "length = 0\n",
    "\n",
    "for file in os.listdir(os.path.join(\"D:\\\\\",\"object detection\",\"original_dataset\",\"XML\")):\n",
    "    if counter%10 == 0:\n",
    "        \n",
    "        # moving xml file\n",
    "        original = \"D:\\\\object detection\\\\original_dataset\\\\XML\\\\\" + file\n",
    "        destination = \"D:\\\\object detection\\\\original_dataset\\\\tf_split\\\\val\\\\\"  + file\n",
    "        shutil.move(original, destination)\n",
    "        \n",
    "        # moving image file with same name \n",
    "        original = \"D:\\\\object detection\\\\original_dataset\\\\images\\\\\" + file.split(\".\")[0] + \".jpg\"\n",
    "        destination = \"D:\\\\object detection\\\\original_dataset\\\\tf_split\\\\val\\\\\"  + file.split(\".\")[0] + \".jpg\"\n",
    "        shutil.move(original, destination)\n",
    "        \n",
    "        ####### if you want to copy all files ####################\n",
    "#         if length ==4:\n",
    "#             break\n",
    "        ##########################################################\n",
    "        length +=1\n",
    "    counter +=1\n",
    "\n",
    "print(\"Moved files : \" + str(length))"
   ]
  }
 ],
 "metadata": {
  "kernelspec": {
   "display_name": "Python 3 (ipykernel)",
   "language": "python",
   "name": "python3"
  },
  "language_info": {
   "codemirror_mode": {
    "name": "ipython",
    "version": 3
   },
   "file_extension": ".py",
   "mimetype": "text/x-python",
   "name": "python",
   "nbconvert_exporter": "python",
   "pygments_lexer": "ipython3",
   "version": "3.8.10"
  }
 },
 "nbformat": 4,
 "nbformat_minor": 5
}
